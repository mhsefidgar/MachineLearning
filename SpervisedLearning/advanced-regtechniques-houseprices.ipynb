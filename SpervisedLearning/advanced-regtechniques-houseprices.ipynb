{
  "nbformat": 4,
  "nbformat_minor": 5,
  "metadata": {
    "kernelspec": {
      "display_name": "Python 3",
      "language": "python",
      "name": "python3"
    },
    "language_info": {
      "codemirror_mode": {
        "name": "ipython",
        "version": 3
      },
      "file_extension": ".py",
      "mimetype": "text/x-python",
      "name": "python",
      "nbconvert_exporter": "python",
      "pygments_lexer": "ipython3",
      "version": "3.7.10"
    },
    "papermill": {
      "default_parameters": {},
      "duration": 14.313816,
      "end_time": "2021-12-02T06:58:35.414957",
      "environment_variables": {},
      "exception": null,
      "input_path": "__notebook__.ipynb",
      "output_path": "__notebook__.ipynb",
      "parameters": {},
      "start_time": "2021-12-02T06:58:21.101141",
      "version": "2.3.3"
    },
    "colab": {
      "name": "advanced-regtechniques-houseprices.ipynb",
      "provenance": []
    }
  },
  "cells": [
    {
      "cell_type": "markdown",
      "metadata": {
        "id": "0CqbRHa0Mbir"
      },
      "source": [
        "\n",
        "<figure>\n",
        "<center>\n",
        "<img src='https://media0.giphy.com/media/sdT5XG0EAqUuGi0UJZ/giphy.gif' />\n",
        "<figcaption><b> House Price Prediction<b/></figcaption></center>\n",
        "</figure>\n",
        "\n",
        "\n",
        "### 👇 Click following button to open in Colab"
      ],
      "id": "0CqbRHa0Mbir"
    },
    {
      "cell_type": "markdown",
      "metadata": {
        "id": "7dtdisGMMYd0"
      },
      "source": [
        "[![Open In Colab](https://colab.research.google.com/assets/colab-badge.svg)](https://colab.research.google.com/github/mhsefidgar/MachineLearning/blob/main/SpervisedLearning/advanced-regtechniques-houseprices.ipynb)\n",
        "\n",
        "\n",
        "\n",
        "\n",
        "\n"
      ],
      "id": "7dtdisGMMYd0"
    },
    {
      "cell_type": "code",
      "metadata": {
        "_cell_guid": "b1076dfc-b9ad-4769-8c92-a6c4dae69d19",
        "_uuid": "8f2839f25d086af736a60e9eeb907d3b93b6e0e5",
        "execution": {
          "iopub.execute_input": "2021-12-02T06:58:28.546179Z",
          "iopub.status.busy": "2021-12-02T06:58:28.545079Z",
          "iopub.status.idle": "2021-12-02T06:58:28.556137Z",
          "shell.execute_reply": "2021-12-02T06:58:28.556801Z",
          "shell.execute_reply.started": "2021-12-02T06:19:46.829939Z"
        },
        "papermill": {
          "duration": 0.042613,
          "end_time": "2021-12-02T06:58:28.557152",
          "exception": false,
          "start_time": "2021-12-02T06:58:28.514539",
          "status": "completed"
        },
        "tags": [],
        "id": "e59147ca"
      },
      "source": [
        "# This Python 3 environment comes with many helpful analytics libraries installed\n",
        "# It is defined by the kaggle/python Docker image: https://github.com/kaggle/docker-python\n",
        "# For example, here's several helpful packages to load\n",
        "\n",
        "import numpy as np # linear algebra\n",
        "import pandas as pd # data processing, CSV file I/O (e.g. pd.read_csv)\n"
      ],
      "id": "e59147ca",
      "execution_count": 1,
      "outputs": []
    },
    {
      "cell_type": "markdown",
      "metadata": {
        "id": "wsDW7ZVma9WY"
      },
      "source": [
        "#### Return to erlier version for compatibility"
      ],
      "id": "wsDW7ZVma9WY"
    },
    {
      "cell_type": "code",
      "metadata": {
        "id": "EffBl0n1adlH"
      },
      "source": [
        "!pip install scikit-learn==0.23.2"
      ],
      "id": "EffBl0n1adlH",
      "execution_count": null,
      "outputs": []
    },
    {
      "cell_type": "code",
      "metadata": {
        "id": "aaKt3UPZJOsN"
      },
      "source": [
        "!wget \"https://storage.googleapis.com/kagglesdsdata/competitions/5407/868283/train.csv?GoogleAccessId=web-data@kaggle-161607.iam.gserviceaccount.com&Expires=1638741340&Signature=AysIDQigy6Dq92d5g%2FAwx8vVt0q8cZ8Vg06oU%2BGp%2F26PAYaesncUXrQjc3IuZ484iW9pYUmdqExAhaf8GYwRPUbO%2FDedKV5PlHNT5QYHZj32dKIwPlm%2BrWhwb90Wg3Bh%2BJvt0pIYQ0f10qDc0CTjM7hGVGJbgEC2kJTde%2Fp7BnG1hzK0OgGRTrNJnwduv0P%2FT3N9QIm5TTaThm3O64pxUrBdsfRtjVp1arbpv360BbEPwRlYJRdCVQs%2Bx4bje%2BqBZmCHAtDivqQ87QrwaBObcdZOHfw7VVk7uwPW3KAbyy%2FY%2Bl0fIBpPxsad1OBxhW2otp0hm2bLqVwNsiGwr8WH0g%3D%3D&response-content-disposition=attachment%3B+filename%3Dtrain.csv\" -O train.csv"
      ],
      "id": "aaKt3UPZJOsN",
      "execution_count": null,
      "outputs": []
    },
    {
      "cell_type": "code",
      "metadata": {
        "execution": {
          "iopub.execute_input": "2021-12-02T06:58:28.609490Z",
          "iopub.status.busy": "2021-12-02T06:58:28.608902Z",
          "iopub.status.idle": "2021-12-02T06:58:28.644392Z",
          "shell.execute_reply": "2021-12-02T06:58:28.644961Z",
          "shell.execute_reply.started": "2021-12-02T06:19:46.868636Z"
        },
        "papermill": {
          "duration": 0.063295,
          "end_time": "2021-12-02T06:58:28.645140",
          "exception": false,
          "start_time": "2021-12-02T06:58:28.581845",
          "status": "completed"
        },
        "tags": [],
        "id": "2c1cc8c2"
      },
      "source": [
        "data = pd.read_csv(\"train.csv\")"
      ],
      "id": "2c1cc8c2",
      "execution_count": 4,
      "outputs": []
    },
    {
      "cell_type": "code",
      "metadata": {
        "execution": {
          "iopub.execute_input": "2021-12-02T06:58:28.694164Z",
          "iopub.status.busy": "2021-12-02T06:58:28.693234Z",
          "iopub.status.idle": "2021-12-02T06:58:28.726130Z",
          "shell.execute_reply": "2021-12-02T06:58:28.726612Z",
          "shell.execute_reply.started": "2021-12-02T06:19:46.919517Z"
        },
        "papermill": {
          "duration": 0.058946,
          "end_time": "2021-12-02T06:58:28.726809",
          "exception": false,
          "start_time": "2021-12-02T06:58:28.667863",
          "status": "completed"
        },
        "tags": [],
        "id": "4073e669"
      },
      "source": [
        "data.head(10)"
      ],
      "id": "4073e669",
      "execution_count": null,
      "outputs": []
    },
    {
      "cell_type": "code",
      "metadata": {
        "execution": {
          "iopub.execute_input": "2021-12-02T06:58:28.778381Z",
          "iopub.status.busy": "2021-12-02T06:58:28.777764Z",
          "iopub.status.idle": "2021-12-02T06:58:28.781807Z",
          "shell.execute_reply": "2021-12-02T06:58:28.782329Z",
          "shell.execute_reply.started": "2021-12-02T06:19:46.966622Z"
        },
        "papermill": {
          "duration": 0.031536,
          "end_time": "2021-12-02T06:58:28.782483",
          "exception": false,
          "start_time": "2021-12-02T06:58:28.750947",
          "status": "completed"
        },
        "tags": [],
        "id": "42ab039e"
      },
      "source": [
        "data.shape"
      ],
      "id": "42ab039e",
      "execution_count": null,
      "outputs": []
    },
    {
      "cell_type": "code",
      "metadata": {
        "execution": {
          "iopub.execute_input": "2021-12-02T06:58:28.833968Z",
          "iopub.status.busy": "2021-12-02T06:58:28.833339Z",
          "iopub.status.idle": "2021-12-02T06:58:29.606543Z",
          "shell.execute_reply": "2021-12-02T06:58:29.605380Z",
          "shell.execute_reply.started": "2021-12-02T06:19:46.973963Z"
        },
        "papermill": {
          "duration": 0.80009,
          "end_time": "2021-12-02T06:58:29.606691",
          "exception": false,
          "start_time": "2021-12-02T06:58:28.806601",
          "status": "completed"
        },
        "tags": [],
        "id": "97ba7673"
      },
      "source": [
        "import seaborn as sns"
      ],
      "id": "97ba7673",
      "execution_count": 7,
      "outputs": []
    },
    {
      "cell_type": "code",
      "metadata": {
        "execution": {
          "iopub.execute_input": "2021-12-02T06:58:29.661997Z",
          "iopub.status.busy": "2021-12-02T06:58:29.661311Z",
          "iopub.status.idle": "2021-12-02T06:58:29.667979Z",
          "shell.execute_reply": "2021-12-02T06:58:29.667415Z",
          "shell.execute_reply.started": "2021-12-02T06:19:48.062722Z"
        },
        "papermill": {
          "duration": 0.037296,
          "end_time": "2021-12-02T06:58:29.668116",
          "exception": false,
          "start_time": "2021-12-02T06:58:29.630820",
          "status": "completed"
        },
        "tags": [],
        "id": "f68c6da9"
      },
      "source": [
        "data.isnull().sum()"
      ],
      "id": "f68c6da9",
      "execution_count": null,
      "outputs": []
    },
    {
      "cell_type": "code",
      "metadata": {
        "execution": {
          "iopub.execute_input": "2021-12-02T06:58:29.720844Z",
          "iopub.status.busy": "2021-12-02T06:58:29.720214Z",
          "iopub.status.idle": "2021-12-02T06:58:29.764181Z",
          "shell.execute_reply": "2021-12-02T06:58:29.764619Z",
          "shell.execute_reply.started": "2021-12-02T06:19:48.085545Z"
        },
        "papermill": {
          "duration": 0.072253,
          "end_time": "2021-12-02T06:58:29.764810",
          "exception": false,
          "start_time": "2021-12-02T06:58:29.692557",
          "status": "completed"
        },
        "tags": [],
        "id": "62af918a"
      },
      "source": [
        "data.corr()"
      ],
      "id": "62af918a",
      "execution_count": null,
      "outputs": []
    },
    {
      "cell_type": "code",
      "metadata": {
        "execution": {
          "iopub.execute_input": "2021-12-02T06:58:29.823121Z",
          "iopub.status.busy": "2021-12-02T06:58:29.822471Z",
          "iopub.status.idle": "2021-12-02T06:58:29.836749Z",
          "shell.execute_reply": "2021-12-02T06:58:29.837289Z",
          "shell.execute_reply.started": "2021-12-02T06:19:48.152838Z"
        },
        "papermill": {
          "duration": 0.047329,
          "end_time": "2021-12-02T06:58:29.837444",
          "exception": false,
          "start_time": "2021-12-02T06:58:29.790115",
          "status": "completed"
        },
        "tags": [],
        "id": "e0c5e58f"
      },
      "source": [
        "data[data.columns[1:]].corr()['SalePrice'][:].sort_values (ascending=False)"
      ],
      "id": "e0c5e58f",
      "execution_count": null,
      "outputs": []
    },
    {
      "cell_type": "code",
      "metadata": {
        "execution": {
          "iopub.execute_input": "2021-12-02T06:58:29.893533Z",
          "iopub.status.busy": "2021-12-02T06:58:29.892743Z",
          "iopub.status.idle": "2021-12-02T06:58:29.895504Z",
          "shell.execute_reply": "2021-12-02T06:58:29.895951Z",
          "shell.execute_reply.started": "2021-12-02T06:19:48.183660Z"
        },
        "papermill": {
          "duration": 0.033266,
          "end_time": "2021-12-02T06:58:29.896106",
          "exception": false,
          "start_time": "2021-12-02T06:58:29.862840",
          "status": "completed"
        },
        "tags": [],
        "id": "d8fffdf9"
      },
      "source": [
        "data.drop('KitchenAbvGr',axis=1,inplace=True)"
      ],
      "id": "d8fffdf9",
      "execution_count": 11,
      "outputs": []
    },
    {
      "cell_type": "code",
      "metadata": {
        "execution": {
          "iopub.execute_input": "2021-12-02T06:58:29.968206Z",
          "iopub.status.busy": "2021-12-02T06:58:29.967263Z",
          "iopub.status.idle": "2021-12-02T06:58:29.974005Z",
          "shell.execute_reply": "2021-12-02T06:58:29.974568Z",
          "shell.execute_reply.started": "2021-12-02T06:19:48.193960Z"
        },
        "papermill": {
          "duration": 0.045594,
          "end_time": "2021-12-02T06:58:29.974786",
          "exception": false,
          "start_time": "2021-12-02T06:58:29.929192",
          "status": "completed"
        },
        "tags": [],
        "id": "615cbb5b"
      },
      "source": [
        "data.drop('EnclosedPorch',axis=1,inplace=True)"
      ],
      "id": "615cbb5b",
      "execution_count": 12,
      "outputs": []
    },
    {
      "cell_type": "code",
      "metadata": {
        "execution": {
          "iopub.execute_input": "2021-12-02T06:58:30.034728Z",
          "iopub.status.busy": "2021-12-02T06:58:30.033802Z",
          "iopub.status.idle": "2021-12-02T06:58:30.055439Z",
          "shell.execute_reply": "2021-12-02T06:58:30.056109Z",
          "shell.execute_reply.started": "2021-12-02T06:19:48.211035Z"
        },
        "papermill": {
          "duration": 0.051685,
          "end_time": "2021-12-02T06:58:30.056279",
          "exception": false,
          "start_time": "2021-12-02T06:58:30.004594",
          "status": "completed"
        },
        "tags": [],
        "id": "4aff4445"
      },
      "source": [
        "data.info()"
      ],
      "id": "4aff4445",
      "execution_count": null,
      "outputs": []
    },
    {
      "cell_type": "code",
      "metadata": {
        "execution": {
          "iopub.execute_input": "2021-12-02T06:58:30.113799Z",
          "iopub.status.busy": "2021-12-02T06:58:30.112646Z",
          "iopub.status.idle": "2021-12-02T06:58:30.232216Z",
          "shell.execute_reply": "2021-12-02T06:58:30.233146Z",
          "shell.execute_reply.started": "2021-12-02T06:19:48.252981Z"
        },
        "papermill": {
          "duration": 0.150252,
          "end_time": "2021-12-02T06:58:30.233410",
          "exception": false,
          "start_time": "2021-12-02T06:58:30.083158",
          "status": "completed"
        },
        "tags": [],
        "id": "1516bb32"
      },
      "source": [
        "from sklearn.preprocessing import LabelEncoder\n",
        "\n",
        "le = LabelEncoder()\n",
        "\n",
        "data['SaleType']= le.fit_transform(data['SaleType'])"
      ],
      "id": "1516bb32",
      "execution_count": 14,
      "outputs": []
    },
    {
      "cell_type": "code",
      "metadata": {
        "execution": {
          "iopub.execute_input": "2021-12-02T06:58:30.313808Z",
          "iopub.status.busy": "2021-12-02T06:58:30.313145Z",
          "iopub.status.idle": "2021-12-02T06:58:30.319265Z",
          "shell.execute_reply": "2021-12-02T06:58:30.318591Z",
          "shell.execute_reply.started": "2021-12-02T06:19:48.414154Z"
        },
        "papermill": {
          "duration": 0.049715,
          "end_time": "2021-12-02T06:58:30.319444",
          "exception": false,
          "start_time": "2021-12-02T06:58:30.269729",
          "status": "completed"
        },
        "tags": [],
        "id": "a9b2811f"
      },
      "source": [
        "data['SaleType'].unique()"
      ],
      "id": "a9b2811f",
      "execution_count": null,
      "outputs": []
    },
    {
      "cell_type": "code",
      "metadata": {
        "execution": {
          "iopub.execute_input": "2021-12-02T06:58:30.400038Z",
          "iopub.status.busy": "2021-12-02T06:58:30.399438Z",
          "iopub.status.idle": "2021-12-02T06:58:30.421359Z",
          "shell.execute_reply": "2021-12-02T06:58:30.421967Z",
          "shell.execute_reply.started": "2021-12-02T06:19:48.423287Z"
        },
        "papermill": {
          "duration": 0.066208,
          "end_time": "2021-12-02T06:58:30.422182",
          "exception": false,
          "start_time": "2021-12-02T06:58:30.355974",
          "status": "completed"
        },
        "tags": [],
        "id": "c5fe98eb"
      },
      "source": [
        "data.info()"
      ],
      "id": "c5fe98eb",
      "execution_count": null,
      "outputs": []
    },
    {
      "cell_type": "code",
      "metadata": {
        "execution": {
          "iopub.execute_input": "2021-12-02T06:58:30.485716Z",
          "iopub.status.busy": "2021-12-02T06:58:30.484785Z",
          "iopub.status.idle": "2021-12-02T06:58:30.491773Z",
          "shell.execute_reply": "2021-12-02T06:58:30.492262Z",
          "shell.execute_reply.started": "2021-12-02T06:19:48.458163Z"
        },
        "papermill": {
          "duration": 0.036775,
          "end_time": "2021-12-02T06:58:30.492426",
          "exception": false,
          "start_time": "2021-12-02T06:58:30.455651",
          "status": "completed"
        },
        "tags": [],
        "id": "c8b76276"
      },
      "source": [
        "categorical_cols = ['MSZoning', 'SaleCondition','PavedDrive']\n",
        "for col in categorical_cols:\n",
        "    data[col] = le.fit_transform(data[col])"
      ],
      "id": "c8b76276",
      "execution_count": 17,
      "outputs": []
    },
    {
      "cell_type": "code",
      "metadata": {
        "execution": {
          "iopub.execute_input": "2021-12-02T06:58:30.548492Z",
          "iopub.status.busy": "2021-12-02T06:58:30.547600Z",
          "iopub.status.idle": "2021-12-02T06:58:30.566997Z",
          "shell.execute_reply": "2021-12-02T06:58:30.566123Z",
          "shell.execute_reply.started": "2021-12-02T06:19:48.471821Z"
        },
        "papermill": {
          "duration": 0.048407,
          "end_time": "2021-12-02T06:58:30.567180",
          "exception": false,
          "start_time": "2021-12-02T06:58:30.518773",
          "status": "completed"
        },
        "tags": [],
        "id": "3d62bdbb"
      },
      "source": [
        "data.info()"
      ],
      "id": "3d62bdbb",
      "execution_count": null,
      "outputs": []
    },
    {
      "cell_type": "code",
      "metadata": {
        "execution": {
          "iopub.execute_input": "2021-12-02T06:58:30.632263Z",
          "iopub.status.busy": "2021-12-02T06:58:30.631289Z",
          "iopub.status.idle": "2021-12-02T06:58:30.635029Z",
          "shell.execute_reply": "2021-12-02T06:58:30.635571Z",
          "shell.execute_reply.started": "2021-12-02T06:19:48.505964Z"
        },
        "papermill": {
          "duration": 0.036665,
          "end_time": "2021-12-02T06:58:30.635753",
          "exception": false,
          "start_time": "2021-12-02T06:58:30.599088",
          "status": "completed"
        },
        "tags": [],
        "id": "d3284b02"
      },
      "source": [
        "data = data.select_dtypes(exclude=['object'])"
      ],
      "id": "d3284b02",
      "execution_count": 19,
      "outputs": []
    },
    {
      "cell_type": "code",
      "metadata": {
        "execution": {
          "iopub.execute_input": "2021-12-02T06:58:30.721078Z",
          "iopub.status.busy": "2021-12-02T06:58:30.720158Z",
          "iopub.status.idle": "2021-12-02T06:58:30.735825Z",
          "shell.execute_reply": "2021-12-02T06:58:30.735100Z",
          "shell.execute_reply.started": "2021-12-02T06:19:48.516653Z"
        },
        "papermill": {
          "duration": 0.064614,
          "end_time": "2021-12-02T06:58:30.736027",
          "exception": false,
          "start_time": "2021-12-02T06:58:30.671413",
          "status": "completed"
        },
        "tags": [],
        "id": "d069f90d"
      },
      "source": [
        "data.info()"
      ],
      "id": "d069f90d",
      "execution_count": null,
      "outputs": []
    },
    {
      "cell_type": "code",
      "metadata": {
        "execution": {
          "iopub.execute_input": "2021-12-02T06:58:30.813548Z",
          "iopub.status.busy": "2021-12-02T06:58:30.812614Z",
          "iopub.status.idle": "2021-12-02T06:58:30.815993Z",
          "shell.execute_reply": "2021-12-02T06:58:30.816464Z",
          "shell.execute_reply.started": "2021-12-02T06:19:48.543811Z"
        },
        "papermill": {
          "duration": 0.037431,
          "end_time": "2021-12-02T06:58:30.816615",
          "exception": false,
          "start_time": "2021-12-02T06:58:30.779184",
          "status": "completed"
        },
        "tags": [],
        "id": "d9d5f388"
      },
      "source": [
        "# data.drop('PoolQC',axis=1,inplace=True)"
      ],
      "id": "d9d5f388",
      "execution_count": 21,
      "outputs": []
    },
    {
      "cell_type": "code",
      "metadata": {
        "execution": {
          "iopub.execute_input": "2021-12-02T06:58:30.877020Z",
          "iopub.status.busy": "2021-12-02T06:58:30.876186Z",
          "iopub.status.idle": "2021-12-02T06:58:30.879158Z",
          "shell.execute_reply": "2021-12-02T06:58:30.879689Z",
          "shell.execute_reply.started": "2021-12-02T06:20:21.250825Z"
        },
        "papermill": {
          "duration": 0.035977,
          "end_time": "2021-12-02T06:58:30.879876",
          "exception": false,
          "start_time": "2021-12-02T06:58:30.843899",
          "status": "completed"
        },
        "tags": [],
        "id": "05bd6563"
      },
      "source": [
        "data.columns"
      ],
      "id": "05bd6563",
      "execution_count": null,
      "outputs": []
    },
    {
      "cell_type": "code",
      "metadata": {
        "id": "YXG18L27aBjx"
      },
      "source": [
        "import sklearn as sk\n",
        "print(sk. __version__) "
      ],
      "id": "YXG18L27aBjx",
      "execution_count": null,
      "outputs": []
    },
    {
      "cell_type": "code",
      "metadata": {
        "execution": {
          "iopub.execute_input": "2021-12-02T06:58:30.943376Z",
          "iopub.status.busy": "2021-12-02T06:58:30.942287Z",
          "iopub.status.idle": "2021-12-02T06:58:30.947014Z",
          "shell.execute_reply": "2021-12-02T06:58:30.947497Z",
          "shell.execute_reply.started": "2021-12-02T06:20:21.260691Z"
        },
        "papermill": {
          "duration": 0.040162,
          "end_time": "2021-12-02T06:58:30.947653",
          "exception": false,
          "start_time": "2021-12-02T06:58:30.907491",
          "status": "completed"
        },
        "tags": [],
        "id": "7ed78e9f"
      },
      "source": [
        "data.dropna(inplace=True)"
      ],
      "id": "7ed78e9f",
      "execution_count": null,
      "outputs": []
    },
    {
      "cell_type": "code",
      "metadata": {
        "execution": {
          "iopub.execute_input": "2021-12-02T06:58:31.007007Z",
          "iopub.status.busy": "2021-12-02T06:58:31.006098Z",
          "iopub.status.idle": "2021-12-02T06:58:31.383148Z",
          "shell.execute_reply": "2021-12-02T06:58:31.382501Z",
          "shell.execute_reply.started": "2021-12-02T06:20:21.277589Z"
        },
        "papermill": {
          "duration": 0.407316,
          "end_time": "2021-12-02T06:58:31.383289",
          "exception": false,
          "start_time": "2021-12-02T06:58:30.975973",
          "status": "completed"
        },
        "tags": [],
        "id": "b2e854cf"
      },
      "source": [
        "from sklearn.ensemble import RandomForestRegressor\n",
        "from sklearn.linear_model import Ridge\n",
        "from xgboost import XGBRegressor"
      ],
      "id": "b2e854cf",
      "execution_count": 25,
      "outputs": []
    },
    {
      "cell_type": "code",
      "metadata": {
        "execution": {
          "iopub.execute_input": "2021-12-02T06:58:31.441567Z",
          "iopub.status.busy": "2021-12-02T06:58:31.441016Z",
          "iopub.status.idle": "2021-12-02T06:58:31.446076Z",
          "shell.execute_reply": "2021-12-02T06:58:31.446508Z",
          "shell.execute_reply.started": "2021-12-02T06:20:21.779373Z"
        },
        "papermill": {
          "duration": 0.035586,
          "end_time": "2021-12-02T06:58:31.446660",
          "exception": false,
          "start_time": "2021-12-02T06:58:31.411074",
          "status": "completed"
        },
        "tags": [],
        "id": "8787e5b7"
      },
      "source": [
        "x_train=data.drop('SalePrice', axis = 1).values\n",
        "y_train=data['SalePrice'].values"
      ],
      "id": "8787e5b7",
      "execution_count": 26,
      "outputs": []
    },
    {
      "cell_type": "code",
      "metadata": {
        "execution": {
          "iopub.execute_input": "2021-12-02T06:58:31.506925Z",
          "iopub.status.busy": "2021-12-02T06:58:31.506259Z",
          "iopub.status.idle": "2021-12-02T06:58:31.526587Z",
          "shell.execute_reply": "2021-12-02T06:58:31.527537Z",
          "shell.execute_reply.started": "2021-12-02T06:20:21.793299Z"
        },
        "papermill": {
          "duration": 0.053386,
          "end_time": "2021-12-02T06:58:31.527814",
          "exception": false,
          "start_time": "2021-12-02T06:58:31.474428",
          "status": "completed"
        },
        "tags": [],
        "id": "9c8dd686"
      },
      "source": [
        "rm = Ridge(alpha=1.0)\n",
        "rm.fit(x_train, y_train)"
      ],
      "id": "9c8dd686",
      "execution_count": null,
      "outputs": []
    },
    {
      "cell_type": "code",
      "metadata": {
        "execution": {
          "iopub.execute_input": "2021-12-02T06:58:31.645719Z",
          "iopub.status.busy": "2021-12-02T06:58:31.645130Z",
          "iopub.status.idle": "2021-12-02T06:58:32.991247Z",
          "shell.execute_reply": "2021-12-02T06:58:32.991658Z",
          "shell.execute_reply.started": "2021-12-02T06:20:21.832496Z"
        },
        "papermill": {
          "duration": 1.408219,
          "end_time": "2021-12-02T06:58:32.991840",
          "exception": false,
          "start_time": "2021-12-02T06:58:31.583621",
          "status": "completed"
        },
        "tags": [],
        "id": "885c84cc"
      },
      "source": [
        "rf = RandomForestRegressor()\n",
        "rf.fit(x_train, y_train)"
      ],
      "id": "885c84cc",
      "execution_count": null,
      "outputs": []
    },
    {
      "cell_type": "code",
      "metadata": {
        "execution": {
          "iopub.execute_input": "2021-12-02T06:58:33.058414Z",
          "iopub.status.busy": "2021-12-02T06:58:33.057757Z",
          "iopub.status.idle": "2021-12-02T06:58:33.711774Z",
          "shell.execute_reply": "2021-12-02T06:58:33.711018Z",
          "shell.execute_reply.started": "2021-12-02T06:20:23.353004Z"
        },
        "papermill": {
          "duration": 0.689243,
          "end_time": "2021-12-02T06:58:33.711910",
          "exception": false,
          "start_time": "2021-12-02T06:58:33.022667",
          "status": "completed"
        },
        "tags": [],
        "id": "2f04f024"
      },
      "source": [
        "xgb = XGBRegressor()\n",
        "xgb.fit(x_train, y_train) "
      ],
      "id": "2f04f024",
      "execution_count": null,
      "outputs": []
    },
    {
      "cell_type": "code",
      "metadata": {
        "id": "wAfmjjyAP0_E"
      },
      "source": [
        "!wget \"https://storage.googleapis.com/kagglesdsdata/competitions/5407/868283/test.csv?GoogleAccessId=web-data@kaggle-161607.iam.gserviceaccount.com&Expires=1638743026&Signature=BVR4VT%2Bz8qXYo%2FoELpYoShl%2FKozrZlXnjNOqhOswXfqjg1H%2FKaWv713foNuj8sRBQLgo4Dcjd3iryomfdVFgD%2FTEkeCZYijeN76o6JYVtl9Hl4pI5UlyBaPcR4EovUQ8m5g5YkdBpeF1rEuuiYyM32Mp2VvaTz7rVr38u%2BXaThYmqilDOHwOMLgTmrU%2B7YQtU%2FoZtkE9qSj%2BecXqQdyuT5VYBuy4j8nPduxpvF7O2pV3KM3iqxvzekvKxVOM1i4UYpBmk5upGYFv8hVSMdImOdiz4MSTOWiCqiqepnNsjYKneMFBzCqzQtcnvtgcNquj7%2BFCHssZRB%2FqX1ODfoHEwQ%3D%3D&response-content-disposition=attachment%3B+filename%3Dtest.csv\" -O test.csv"
      ],
      "id": "wAfmjjyAP0_E",
      "execution_count": null,
      "outputs": []
    },
    {
      "cell_type": "code",
      "metadata": {
        "execution": {
          "iopub.execute_input": "2021-12-02T06:58:33.776560Z",
          "iopub.status.busy": "2021-12-02T06:58:33.775942Z",
          "iopub.status.idle": "2021-12-02T06:58:33.807074Z",
          "shell.execute_reply": "2021-12-02T06:58:33.807578Z",
          "shell.execute_reply.started": "2021-12-02T06:34:02.187565Z"
        },
        "papermill": {
          "duration": 0.067136,
          "end_time": "2021-12-02T06:58:33.807783",
          "exception": false,
          "start_time": "2021-12-02T06:58:33.740647",
          "status": "completed"
        },
        "tags": [],
        "id": "883a5622"
      },
      "source": [
        "data_test = pd.read_csv('test.csv')"
      ],
      "id": "883a5622",
      "execution_count": 31,
      "outputs": []
    },
    {
      "cell_type": "code",
      "metadata": {
        "execution": {
          "iopub.execute_input": "2021-12-02T06:58:33.867615Z",
          "iopub.status.busy": "2021-12-02T06:58:33.867033Z",
          "iopub.status.idle": "2021-12-02T06:58:33.876451Z",
          "shell.execute_reply": "2021-12-02T06:58:33.876919Z",
          "shell.execute_reply.started": "2021-12-02T06:34:02.578866Z"
        },
        "papermill": {
          "duration": 0.040738,
          "end_time": "2021-12-02T06:58:33.877072",
          "exception": false,
          "start_time": "2021-12-02T06:58:33.836334",
          "status": "completed"
        },
        "tags": [],
        "id": "0708b834"
      },
      "source": [
        "data_test.dropna(inplace=True)\n",
        "x_test=data.drop('SalePrice', axis = 1)\n",
        "y_test=data['SalePrice']"
      ],
      "id": "0708b834",
      "execution_count": 32,
      "outputs": []
    },
    {
      "cell_type": "code",
      "metadata": {
        "execution": {
          "iopub.execute_input": "2021-12-02T06:58:33.937684Z",
          "iopub.status.busy": "2021-12-02T06:58:33.937088Z",
          "iopub.status.idle": "2021-12-02T06:58:33.950530Z",
          "shell.execute_reply": "2021-12-02T06:58:33.951004Z",
          "shell.execute_reply.started": "2021-12-02T06:34:03.947666Z"
        },
        "papermill": {
          "duration": 0.046175,
          "end_time": "2021-12-02T06:58:33.951178",
          "exception": false,
          "start_time": "2021-12-02T06:58:33.905003",
          "status": "completed"
        },
        "tags": [],
        "id": "32fbc470"
      },
      "source": [
        "data_test.info()"
      ],
      "id": "32fbc470",
      "execution_count": null,
      "outputs": []
    },
    {
      "cell_type": "code",
      "metadata": {
        "execution": {
          "iopub.execute_input": "2021-12-02T06:58:34.015367Z",
          "iopub.status.busy": "2021-12-02T06:58:34.014397Z",
          "iopub.status.idle": "2021-12-02T06:58:34.075056Z",
          "shell.execute_reply": "2021-12-02T06:58:34.075953Z",
          "shell.execute_reply.started": "2021-12-02T06:34:04.560855Z"
        },
        "papermill": {
          "duration": 0.095342,
          "end_time": "2021-12-02T06:58:34.076225",
          "exception": false,
          "start_time": "2021-12-02T06:58:33.980883",
          "status": "completed"
        },
        "tags": [],
        "id": "b8cab993"
      },
      "source": [
        "xgb_pred = xgb.predict(x_test.values)\n",
        "rm_pred= rm.predict(x_test)\n",
        "rf_pred= rf.predict(x_test)"
      ],
      "id": "b8cab993",
      "execution_count": 42,
      "outputs": []
    },
    {
      "cell_type": "code",
      "metadata": {
        "execution": {
          "iopub.execute_input": "2021-12-02T06:58:34.172581Z",
          "iopub.status.busy": "2021-12-02T06:58:34.171969Z",
          "iopub.status.idle": "2021-12-02T06:58:34.174310Z",
          "shell.execute_reply": "2021-12-02T06:58:34.173754Z",
          "shell.execute_reply.started": "2021-12-02T06:34:05.223577Z"
        },
        "papermill": {
          "duration": 0.040338,
          "end_time": "2021-12-02T06:58:34.174440",
          "exception": false,
          "start_time": "2021-12-02T06:58:34.134102",
          "status": "completed"
        },
        "tags": [],
        "id": "c4e887d8"
      },
      "source": [
        "from sklearn.metrics import mean_absolute_error,mean_squared_error,accuracy_score\n",
        "from sklearn.metrics import r2_score"
      ],
      "id": "c4e887d8",
      "execution_count": 43,
      "outputs": []
    },
    {
      "cell_type": "code",
      "metadata": {
        "execution": {
          "iopub.execute_input": "2021-12-02T06:58:34.291187Z",
          "iopub.status.busy": "2021-12-02T06:58:34.290568Z",
          "iopub.status.idle": "2021-12-02T06:58:34.295227Z",
          "shell.execute_reply": "2021-12-02T06:58:34.295816Z",
          "shell.execute_reply.started": "2021-12-02T06:34:05.810769Z"
        },
        "papermill": {
          "duration": 0.039633,
          "end_time": "2021-12-02T06:58:34.295970",
          "exception": false,
          "start_time": "2021-12-02T06:58:34.256337",
          "status": "completed"
        },
        "tags": [],
        "id": "f25ebe2e"
      },
      "source": [
        "print(r2_score(y_test, rf_pred))\n",
        "print(r2_score(y_test, rm_pred))\n",
        "print(r2_score(y_test, xgb_pred))"
      ],
      "id": "f25ebe2e",
      "execution_count": null,
      "outputs": []
    },
    {
      "cell_type": "code",
      "metadata": {
        "execution": {
          "iopub.execute_input": "2021-12-02T06:58:34.360148Z",
          "iopub.status.busy": "2021-12-02T06:58:34.359101Z",
          "iopub.status.idle": "2021-12-02T06:58:34.383374Z",
          "shell.execute_reply": "2021-12-02T06:58:34.383906Z",
          "shell.execute_reply.started": "2021-12-02T06:35:15.573705Z"
        },
        "papermill": {
          "duration": 0.058945,
          "end_time": "2021-12-02T06:58:34.384072",
          "exception": false,
          "start_time": "2021-12-02T06:58:34.325127",
          "status": "completed"
        },
        "tags": [],
        "id": "8d56d529"
      },
      "source": [
        "data_test = pd.read_csv(\"test.csv\")\n",
        "data_test.dropna(inplace=True)"
      ],
      "id": "8d56d529",
      "execution_count": 45,
      "outputs": []
    },
    {
      "cell_type": "code",
      "metadata": {
        "execution": {
          "iopub.execute_input": "2021-12-02T06:58:34.445952Z",
          "iopub.status.busy": "2021-12-02T06:58:34.445032Z",
          "iopub.status.idle": "2021-12-02T06:58:34.448052Z",
          "shell.execute_reply": "2021-12-02T06:58:34.448499Z",
          "shell.execute_reply.started": "2021-12-02T06:35:16.018139Z"
        },
        "papermill": {
          "duration": 0.035396,
          "end_time": "2021-12-02T06:58:34.448652",
          "exception": false,
          "start_time": "2021-12-02T06:58:34.413256",
          "status": "completed"
        },
        "tags": [],
        "id": "4b2bfaef"
      },
      "source": [
        "# data_test"
      ],
      "id": "4b2bfaef",
      "execution_count": 46,
      "outputs": []
    },
    {
      "cell_type": "code",
      "metadata": {
        "execution": {
          "iopub.execute_input": "2021-12-02T06:58:34.510970Z",
          "iopub.status.busy": "2021-12-02T06:58:34.510092Z",
          "iopub.status.idle": "2021-12-02T06:58:34.514223Z",
          "shell.execute_reply": "2021-12-02T06:58:34.514656Z",
          "shell.execute_reply.started": "2021-12-02T06:35:16.382805Z"
        },
        "papermill": {
          "duration": 0.036655,
          "end_time": "2021-12-02T06:58:34.514827",
          "exception": false,
          "start_time": "2021-12-02T06:58:34.478172",
          "status": "completed"
        },
        "tags": [],
        "id": "7918fc69"
      },
      "source": [
        "x_test_id = data_test.pop('Id')"
      ],
      "id": "7918fc69",
      "execution_count": 47,
      "outputs": []
    },
    {
      "cell_type": "code",
      "metadata": {
        "execution": {
          "iopub.execute_input": "2021-12-02T06:58:34.576065Z",
          "iopub.status.busy": "2021-12-02T06:58:34.575137Z",
          "iopub.status.idle": "2021-12-02T06:58:34.585356Z",
          "shell.execute_reply": "2021-12-02T06:58:34.585839Z",
          "shell.execute_reply.started": "2021-12-02T06:42:36.248733Z"
        },
        "papermill": {
          "duration": 0.04255,
          "end_time": "2021-12-02T06:58:34.586006",
          "exception": false,
          "start_time": "2021-12-02T06:58:34.543456",
          "status": "completed"
        },
        "tags": [],
        "id": "2f8636a2"
      },
      "source": [
        "sub = pd.DataFrame()\n",
        "sub['Id'] = x_test_id\n",
        "sub['SalePrice'] = xgb_pred\n",
        "sub.to_csv('submission.csv',index=False)"
      ],
      "id": "2f8636a2",
      "execution_count": 48,
      "outputs": []
    },
    {
      "cell_type": "code",
      "metadata": {
        "execution": {
          "iopub.execute_input": "2021-12-02T06:58:34.648252Z",
          "iopub.status.busy": "2021-12-02T06:58:34.647608Z",
          "iopub.status.idle": "2021-12-02T06:58:34.658041Z",
          "shell.execute_reply": "2021-12-02T06:58:34.657550Z",
          "shell.execute_reply.started": "2021-12-02T06:42:41.187190Z"
        },
        "papermill": {
          "duration": 0.042293,
          "end_time": "2021-12-02T06:58:34.658169",
          "exception": false,
          "start_time": "2021-12-02T06:58:34.615876",
          "status": "completed"
        },
        "tags": [],
        "id": "59a10950"
      },
      "source": [
        "sub"
      ],
      "id": "59a10950",
      "execution_count": null,
      "outputs": []
    }
  ]
}
