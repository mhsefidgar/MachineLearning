{
  "nbformat": 4,
  "nbformat_minor": 0,
  "metadata": {
    "kernelspec": {
      "display_name": "Python 3",
      "language": "python",
      "name": "python3"
    },
    "language_info": {
      "codemirror_mode": {
        "name": "ipython",
        "version": 3
      },
      "file_extension": ".py",
      "mimetype": "text/x-python",
      "name": "python",
      "nbconvert_exporter": "python",
      "pygments_lexer": "ipython3",
      "version": "3.6.4"
    },
    "colab": {
      "name": "Xgboost.ipynb",
      "provenance": []
    }
  },
  "cells": [
    {
      "cell_type": "markdown",
      "metadata": {
        "id": "YKpt-YKTf_Ph"
      },
      "source": [
        "# Xgboost Classification of titanic data \n",
        "\n",
        "<p align=\"center\">\n",
        "  <img src=\"https://dbcms.docubay.com/featured-images/1607353122-titanicthehistoryandmaidenvoyageimage03-256x256.jpg\" />\n",
        "</p>"
      ]
    },
    {
      "cell_type": "markdown",
      "metadata": {
        "id": "g1KavClhnICx"
      },
      "source": [
        "### 👇 Click following button to open in Colab"
      ]
    },
    {
      "cell_type": "markdown",
      "metadata": {
        "id": "QPPqRqnCm809"
      },
      "source": [
        "[![Open In Colab](https://colab.research.google.com/assets/colab-badge.svg)](https://colab.research.google.com/github/mhsefidgar/MachineLearning/blob/main/SpervisedLearning/Xgboost.ipynb)"
      ]
    },
    {
      "cell_type": "code",
      "metadata": {
        "id": "2DT4ZrhTXGJQ"
      },
      "source": [
        "import pandas as pd\n",
        "from sklearn.model_selection import train_test_split\n",
        "from xgboost import XGBClassifier"
      ],
      "execution_count": null,
      "outputs": []
    },
    {
      "cell_type": "markdown",
      "metadata": {
        "id": "1GT9CneIcdak"
      },
      "source": [
        "### Gradient Boosting Algorithm\n",
        "\n",
        "<p align=\"center\">\n",
        "  <img src=\"https://miro.medium.com/max/1297/1*A9myadIB_CqJv-EJA-G_bA.png\" />\n",
        "</p>\n"
      ]
    },
    {
      "cell_type": "markdown",
      "metadata": {
        "id": "3oUlAn5EdEmZ"
      },
      "source": [
        "## Download the data sets"
      ]
    },
    {
      "cell_type": "code",
      "metadata": {
        "id": "ZRsJNpCjc-m0"
      },
      "source": [
        "!wget clone https://raw.githubusercontent.com/datasciencedojo/datasets/master/titanic.csv"
      ],
      "execution_count": null,
      "outputs": []
    },
    {
      "cell_type": "markdown",
      "metadata": {
        "id": "oPAmyWqUdKUX"
      },
      "source": [
        "## Read the datasets"
      ]
    },
    {
      "cell_type": "code",
      "metadata": {
        "id": "9T4VpB0yXGJS"
      },
      "source": [
        "data = pd.read_csv(\"titanic.csv\")"
      ],
      "execution_count": null,
      "outputs": []
    },
    {
      "cell_type": "markdown",
      "metadata": {
        "id": "Gb66jvN1dN6g"
      },
      "source": [
        "## Display the header of datasets"
      ]
    },
    {
      "cell_type": "code",
      "metadata": {
        "id": "nXa4RbsAdAXR"
      },
      "source": [
        "data.head()"
      ],
      "execution_count": null,
      "outputs": []
    },
    {
      "cell_type": "markdown",
      "metadata": {
        "id": "5E9uh2pmdX5H"
      },
      "source": [
        "## select the attributes "
      ]
    },
    {
      "cell_type": "code",
      "metadata": {
        "id": "qAMaw6LBXGJU"
      },
      "source": [
        "data = data[['Pclass', 'Sex', 'Age', 'Survived']]"
      ],
      "execution_count": null,
      "outputs": []
    },
    {
      "cell_type": "markdown",
      "metadata": {
        "id": "YPgX_vEndcju"
      },
      "source": [
        "## display the header of selected attributes"
      ]
    },
    {
      "cell_type": "code",
      "metadata": {
        "id": "xK-OfkuyXGJV"
      },
      "source": [
        "data.head()"
      ],
      "execution_count": null,
      "outputs": []
    },
    {
      "cell_type": "markdown",
      "metadata": {
        "id": "vYO56UBVdrrE"
      },
      "source": [
        "## Allocate class to the attributes"
      ]
    },
    {
      "cell_type": "code",
      "metadata": {
        "id": "iUusoTUDXGJV"
      },
      "source": [
        "data['Sex'] = data['Sex'].map({'male': 0, 'female': 1})"
      ],
      "execution_count": null,
      "outputs": []
    },
    {
      "cell_type": "markdown",
      "metadata": {
        "id": "LNg6zKtnd1vL"
      },
      "source": [
        "## display the header of classes of attributes"
      ]
    },
    {
      "cell_type": "code",
      "metadata": {
        "id": "iG_Dm2YHXGJW"
      },
      "source": [
        "data.head()"
      ],
      "execution_count": null,
      "outputs": []
    },
    {
      "cell_type": "markdown",
      "metadata": {
        "id": "ZYLKTGjSeVy3"
      },
      "source": [
        "## Drop the rows where at least one element is missing."
      ]
    },
    {
      "cell_type": "code",
      "metadata": {
        "id": "hw_6dFCUXGJW"
      },
      "source": [
        "data = data.dropna()"
      ],
      "execution_count": null,
      "outputs": []
    },
    {
      "cell_type": "markdown",
      "metadata": {
        "id": "Y4VPsjOJe35W"
      },
      "source": [
        "## Remove rows or columns by specifying label names and corresponding axis, or by specifying directly index or column names. "
      ]
    },
    {
      "cell_type": "code",
      "metadata": {
        "id": "XJzqyrdkXGJW"
      },
      "source": [
        "X = data.drop('Survived', axis=1)\n",
        "y = data['Survived']"
      ],
      "execution_count": null,
      "outputs": []
    },
    {
      "cell_type": "code",
      "metadata": {
        "id": "waA2dx1_XGJX"
      },
      "source": [
        "X_train, X_test, y_train, y_test = train_test_split(X, y, random_state=1)"
      ],
      "execution_count": null,
      "outputs": []
    },
    {
      "cell_type": "markdown",
      "metadata": {
        "id": "zi8IQDUVfPLt"
      },
      "source": [
        "## define XGB classifier and fit the data to the model"
      ]
    },
    {
      "cell_type": "code",
      "metadata": {
        "id": "Is_IMQq-XGJX"
      },
      "source": [
        "model = XGBClassifier()\n",
        "model.fit(X_train, y_train)"
      ],
      "execution_count": null,
      "outputs": []
    },
    {
      "cell_type": "markdown",
      "metadata": {
        "id": "a1HEss9YfaHI"
      },
      "source": [
        "# Evaluate the model fitting"
      ]
    },
    {
      "cell_type": "code",
      "metadata": {
        "scrolled": true,
        "id": "UuIxaJPTXGJY"
      },
      "source": [
        "y_pred = model.predict(X_test)\n",
        "predictions = [round(value) for value in y_pred]"
      ],
      "execution_count": null,
      "outputs": []
    },
    {
      "cell_type": "markdown",
      "metadata": {
        "id": "ILPxrNcofgfc"
      },
      "source": [
        "# Visualize the model fitting"
      ]
    },
    {
      "cell_type": "code",
      "metadata": {
        "colab": {
          "base_uri": "https://localhost:8080/"
        },
        "id": "shqOs-I_XGJY",
        "outputId": "cdb870d8-ac43-42d1-d4bb-66bba84e4817"
      },
      "source": [
        "from sklearn.metrics import accuracy_score\n",
        "from sklearn.metrics import confusion_matrix \n",
        "accuracy = accuracy_score(y_test, predictions)\n",
        "print(\"Accuracy: %.2f%%\" % (accuracy * 100.0))"
      ],
      "execution_count": null,
      "outputs": [
        {
          "output_type": "stream",
          "name": "stdout",
          "text": [
            "Accuracy: 82.68%\n"
          ]
        }
      ]
    },
    {
      "cell_type": "markdown",
      "metadata": {
        "id": "atYGpNYaepXA"
      },
      "source": [
        "## confusion Matrix "
      ]
    },
    {
      "cell_type": "code",
      "metadata": {
        "id": "Kh46AkRGXGJY"
      },
      "source": [
        "confusion_matrix(y_test, y_pred) "
      ],
      "execution_count": null,
      "outputs": []
    },
    {
      "cell_type": "markdown",
      "metadata": {
        "id": "OJknvVbdfqmY"
      },
      "source": [
        "# End of the xgboost classification tutorial"
      ]
    }
  ]
}
